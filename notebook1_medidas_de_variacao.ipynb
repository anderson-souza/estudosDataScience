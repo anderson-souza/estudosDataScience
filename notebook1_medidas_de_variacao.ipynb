{
 "cells": [
  {
   "cell_type": "markdown",
   "metadata": {},
   "source": [
    "## A principal tarefa da análise de dados é o estudo da variação\n",
    "\n",
    "\n",
    "<br>\n",
    "<br>\n",
    "\n",
    "A tarefa principal da análise de dados e da estatística é analisar a variação dos dados: como diferentes indivíduos, produtos, preços, acontecimentos têm características diferentes ou como a mesma coisa muda ao longo do tempo. As pessoas têm rendas e gostos diferentes. O preço do café alguns dias sobe, em outros desce. Empresas que eram lucrativas vão à falência. Pessoas saudáveis se tornam doentes.\n",
    "\n",
    "Há dois tipos principais de análise de dados ou de estatística: descrição e inferência. A primeira descreve a variação passada ou atual, para resumir ou explorar o que já conhecido. A estatística inferencial tenta prever a variação futura ou de casos desconhecidos.\n",
    "\n",
    "A variação também é importante porque é uma medida do risco: risco de morte, risco de perda, risco de falência, a chance de conseguir um bom emprego, a chance de conseguir aumentar as vendas, a chance de viver até os 100 anos etc.\n",
    "\n",
    "O desvio padrão é a principal medida de variação de uma variável. E a correlação é a principal medida de quanto a variação de uma variável está associada à variação de outra variável.\n",
    "\n",
    "Este notebook é uma apresentação simples dessas medidas.\n",
    "\n",
    "O primeiro passo é carregar os pacotes.\n",
    "<br>"
   ]
  },
  {
   "cell_type": "code",
   "execution_count": 1,
   "metadata": {
    "collapsed": true
   },
   "outputs": [],
   "source": [
    "%matplotlib inline\n",
    "import pandas as pd\n",
    "import numpy as np\n",
    "import seaborn as sns\n",
    "sns.set(style='whitegrid')"
   ]
  },
  {
   "cell_type": "markdown",
   "metadata": {},
   "source": [
    "O segundo passo é criar nosso conjunto de dados. Ele terá apenas seis observações e duas variáveis: cada linha é uma pessoa e as colunas informam os anos de estudo e a renda mensal delas.  "
   ]
  },
  {
   "cell_type": "code",
   "execution_count": 39,
   "metadata": {},
   "outputs": [
    {
     "data": {
      "text/html": [
       "<div>\n",
       "<style>\n",
       "    .dataframe thead tr:only-child th {\n",
       "        text-align: right;\n",
       "    }\n",
       "\n",
       "    .dataframe thead th {\n",
       "        text-align: left;\n",
       "    }\n",
       "\n",
       "    .dataframe tbody tr th {\n",
       "        vertical-align: top;\n",
       "    }\n",
       "</style>\n",
       "<table border=\"1\" class=\"dataframe\">\n",
       "  <thead>\n",
       "    <tr style=\"text-align: right;\">\n",
       "      <th></th>\n",
       "      <th>estudo</th>\n",
       "      <th>salario</th>\n",
       "    </tr>\n",
       "  </thead>\n",
       "  <tbody>\n",
       "    <tr>\n",
       "      <th>0</th>\n",
       "      <td>8</td>\n",
       "      <td>1000</td>\n",
       "    </tr>\n",
       "    <tr>\n",
       "      <th>1</th>\n",
       "      <td>8</td>\n",
       "      <td>1000</td>\n",
       "    </tr>\n",
       "    <tr>\n",
       "      <th>2</th>\n",
       "      <td>10</td>\n",
       "      <td>1100</td>\n",
       "    </tr>\n",
       "    <tr>\n",
       "      <th>3</th>\n",
       "      <td>11</td>\n",
       "      <td>1100</td>\n",
       "    </tr>\n",
       "    <tr>\n",
       "      <th>4</th>\n",
       "      <td>11</td>\n",
       "      <td>1300</td>\n",
       "    </tr>\n",
       "    <tr>\n",
       "      <th>5</th>\n",
       "      <td>14</td>\n",
       "      <td>2000</td>\n",
       "    </tr>\n",
       "  </tbody>\n",
       "</table>\n",
       "</div>"
      ],
      "text/plain": [
       "   estudo  salario\n",
       "0       8     1000\n",
       "1       8     1000\n",
       "2      10     1100\n",
       "3      11     1100\n",
       "4      11     1300\n",
       "5      14     2000"
      ]
     },
     "execution_count": 39,
     "metadata": {},
     "output_type": "execute_result"
    }
   ],
   "source": [
    "estudo = [8, 8, 10, 11, 11, 14] # cria uma lista \n",
    "salario = [1000, 1000, 1100, 1100, 1300, 2000] # cria outra lista\n",
    "\n",
    "dados = pd.DataFrame({'estudo':estudo, 'salario':salario}) # transforma as listas em um dataframe\n",
    "dados"
   ]
  },
  {
   "cell_type": "markdown",
   "metadata": {},
   "source": [
    "Agora, já podemos fazer um diagrama de dispersão para observar a relação entre o estudo e a renda."
   ]
  },
  {
   "cell_type": "code",
   "execution_count": 40,
   "metadata": {},
   "outputs": [
    {
     "data": {
      "image/png": "[encoded data removed]",
      "text/plain": [
       "<matplotlib.figure.Figure at 0x7f7baf4673c8>"
      ]
     },
     "metadata": {},
     "output_type": "display_data"
    }
   ],
   "source": [
    "dados.plot.scatter('estudo', 'salario', s=100);"
   ]
  },
  {
   "cell_type": "markdown",
   "metadata": {},
   "source": [
    "Para calcular a média dos salários basta usar o método `.mean()`:"
   ]
  },
  {
   "cell_type": "code",
   "execution_count": 41,
   "metadata": {},
   "outputs": [
    {
     "data": {
      "text/plain": [
       "1250.0"
      ]
     },
     "execution_count": 41,
     "metadata": {},
     "output_type": "execute_result"
    }
   ],
   "source": [
    "dados.salario.mean()"
   ]
  },
  {
   "cell_type": "markdown",
   "metadata": {},
   "source": [
    "Dado que a média é apenas:\n",
    "\n",
    "$$\n",
    "\\bar x = \\frac{\\displaystyle\\sum_{i=1}^n{x_i}}{n}\n",
    "$$\n",
    "\n",
    "Poderíamos calculá-la assim: "
   ]
  },
  {
   "cell_type": "code",
   "execution_count": 42,
   "metadata": {},
   "outputs": [
    {
     "data": {
      "text/plain": [
       "1250.0"
      ]
     },
     "execution_count": 42,
     "metadata": {},
     "output_type": "execute_result"
    }
   ],
   "source": [
    "dados.salario.sum() / len(dados.salario)"
   ]
  },
  {
   "cell_type": "markdown",
   "metadata": {},
   "source": [
    "<br>\n",
    "\n",
    "### Exercício\n",
    "\n",
    "\n",
    "Calcule a média dos **anos de estudo** usando as duas maneiras mostradas acima."
   ]
  },
  {
   "cell_type": "code",
   "execution_count": 44,
   "metadata": {},
   "outputs": [
    {
     "data": {
      "text/plain": [
       "10.333333333333334"
      ]
     },
     "execution_count": 44,
     "metadata": {},
     "output_type": "execute_result"
    }
   ],
   "source": [
    "# digite a primeira maneira aqui\n",
    "dados.estudo.mean()"
   ]
  },
  {
   "cell_type": "code",
   "execution_count": 75,
   "metadata": {},
   "outputs": [
    {
     "data": {
      "text/plain": [
       "10.333333333333334"
      ]
     },
     "execution_count": 75,
     "metadata": {},
     "output_type": "execute_result"
    }
   ],
   "source": [
    "# digite a segunda maneira aqui\n",
    "dados.estudo.sum() / len(dados.estudo)"
   ]
  },
  {
   "cell_type": "markdown",
   "metadata": {},
   "source": [
    "### Analisando a variação"
   ]
  },
  {
   "cell_type": "markdown",
   "metadata": {},
   "source": [
    "Há duas maneiras de analisar a variação: grafica ou numericamente.\n",
    "\n",
    "O histograma é o principal tipo de gráfico para avaliar a dispersão dos dados."
   ]
  },
  {
   "cell_type": "code",
   "execution_count": 50,
   "metadata": {},
   "outputs": [
    {
     "data": {
      "image/png": "[encoded data removed]",
      "text/plain": [
       "<matplotlib.figure.Figure at 0x7f7baf41b518>"
      ]
     },
     "metadata": {},
     "output_type": "display_data"
    }
   ],
   "source": [
    "dados.salario.plot.hist(3);"
   ]
  },
  {
   "cell_type": "markdown",
   "metadata": {},
   "source": [
    "Como temos apenas seis observações, o histograma ficou um pouco estranho.\n",
    "Uma alternativa é um gráfico de densidade, uma versão suavizada do histograma."
   ]
  },
  {
   "cell_type": "code",
   "execution_count": 46,
   "metadata": {},
   "outputs": [
    {
     "data": {
      "image/png": "[encoded data removed]",
      "text/plain": [
       "<matplotlib.figure.Figure at 0x7f7baf362fd0>"
      ]
     },
     "metadata": {},
     "output_type": "display_data"
    }
   ],
   "source": [
    "dados.salario.plot.kde();"
   ]
  },
  {
   "cell_type": "markdown",
   "metadata": {},
   "source": [
    "<br>\n",
    "\n",
    "### Exercício\n",
    "\n",
    "\n",
    "Faça o histograma e o gráfico de dispersão para os **anos de estudo**."
   ]
  },
  {
   "cell_type": "code",
   "execution_count": 72,
   "metadata": {},
   "outputs": [
    {
     "data": {
      "image/png": "[encoded data removed]",
      "text/plain": [
       "<matplotlib.figure.Figure at 0x7f7baf4a5128>"
      ]
     },
     "metadata": {},
     "output_type": "display_data"
    }
   ],
   "source": [
    "# digite o comando para o histograma aqui.\n",
    "dados.estudo.plot.hist();"
   ]
  },
  {
   "cell_type": "code",
   "execution_count": 74,
   "metadata": {},
   "outputs": [
    {
     "data": {
      "image/png": "[encoded data removed]",
      "text/plain": [
       "<matplotlib.figure.Figure at 0x7f7baf4ec7f0>"
      ]
     },
     "metadata": {},
     "output_type": "display_data"
    }
   ],
   "source": [
    "# digite o comando para o gráfico de dispersão aqui.\n",
    "dados.estudo.plot.kde();"
   ]
  },
  {
   "cell_type": "markdown",
   "metadata": {
    "collapsed": true
   },
   "source": [
    "<br>\n",
    "<br>\n",
    "\n",
    "Para avaliar a dispersão numericamente é importante entender a ideia de *desvio médio*: \n",
    "\n",
    "> a média da distância de cada um dos dados em relação à média.\n",
    "\n",
    "O primeiro passo, portanto, é:"
   ]
  },
  {
   "cell_type": "code",
   "execution_count": 51,
   "metadata": {},
   "outputs": [
    {
     "data": {
      "text/plain": [
       "0   -250.0\n",
       "1   -250.0\n",
       "2   -150.0\n",
       "3   -150.0\n",
       "4     50.0\n",
       "5    750.0\n",
       "Name: salario, dtype: float64"
      ]
     },
     "execution_count": 51,
     "metadata": {},
     "output_type": "execute_result"
    }
   ],
   "source": [
    "dados.salario - dados.salario.mean()"
   ]
  },
  {
   "cell_type": "markdown",
   "metadata": {},
   "source": [
    "Porém, a média desse resultado é zero:"
   ]
  },
  {
   "cell_type": "code",
   "execution_count": 52,
   "metadata": {},
   "outputs": [
    {
     "data": {
      "text/plain": [
       "0.0"
      ]
     },
     "execution_count": 52,
     "metadata": {},
     "output_type": "execute_result"
    }
   ],
   "source": [
    "(dados.salario - dados.salario.mean()).mean()"
   ]
  },
  {
   "cell_type": "markdown",
   "metadata": {},
   "source": [
    "A solução é calcular o módulo de cada uma das diferenças antes de fazer o somatório, a *diferença absoluta média* (*mean absolute difference*): \n",
    "\n",
    "$$\n",
    "MAD = \\frac{\\displaystyle\\sum_{i=1}^n \\lvert x_i - \\bar x \\rvert}{n}\n",
    "$$\n",
    "\n",
    "Para calculá-la basta acrescentar o método `.abs()` a nosso comando."
   ]
  },
  {
   "cell_type": "code",
   "execution_count": 55,
   "metadata": {},
   "outputs": [
    {
     "data": {
      "text/plain": [
       "266.6666666666667"
      ]
     },
     "execution_count": 55,
     "metadata": {},
     "output_type": "execute_result"
    }
   ],
   "source": [
    "(dados.salario - dados.salario.mean()).abs().mean()"
   ]
  },
  {
   "cell_type": "markdown",
   "metadata": {},
   "source": [
    "Na prática, usamos a função já pronta:"
   ]
  },
  {
   "cell_type": "code",
   "execution_count": 71,
   "metadata": {},
   "outputs": [
    {
     "data": {
      "text/plain": [
       "266.6666666666667"
      ]
     },
     "execution_count": 71,
     "metadata": {},
     "output_type": "execute_result"
    }
   ],
   "source": [
    "dados.salario.mad()"
   ]
  },
  {
   "cell_type": "markdown",
   "metadata": {},
   "source": [
    "Contudo, a MAD não é a medida de dispersão mais usada. A variância e o desvio padrão são muito mais comuns.  \n",
    "Ao invés de calcularem o módulo, eles elevam os valores ao quadrado, são medidas baseadas no *quadrado da diferença*.\n",
    "\n",
    "Para calculá-los, basta usar os seguintes comandos:"
   ]
  },
  {
   "cell_type": "code",
   "execution_count": 62,
   "metadata": {},
   "outputs": [
    {
     "data": {
      "text/plain": [
       "147000.0"
      ]
     },
     "execution_count": 62,
     "metadata": {},
     "output_type": "execute_result"
    }
   ],
   "source": [
    "dados.salario.var()"
   ]
  },
  {
   "cell_type": "code",
   "execution_count": 63,
   "metadata": {},
   "outputs": [
    {
     "data": {
      "text/plain": [
       "383.40579025361626"
      ]
     },
     "execution_count": 63,
     "metadata": {},
     "output_type": "execute_result"
    }
   ],
   "source": [
    "dados.salario.std()"
   ]
  },
  {
   "cell_type": "markdown",
   "metadata": {},
   "source": [
    "O desvio padrão é simplesmente a raiz quadrada da variância:"
   ]
  },
  {
   "cell_type": "code",
   "execution_count": null,
   "metadata": {
    "collapsed": true
   },
   "outputs": [],
   "source": [
    "np.sqrt(dados.salario.var())"
   ]
  },
  {
   "cell_type": "markdown",
   "metadata": {},
   "source": [
    "A vantagem do desvio padrão em relação à variância é o fato de ele estar na escala dos dados.\n",
    "\n",
    "Como você pode observar, o desvio padrão foi maior do que a MAD. Isso acontece porque, por elevar ao quadrado, ele dá maior peso aos valores mais distantes da média. Além, seu denominador é $n - 1$, não $n$. Todas essas diferenças derivam de questões mais profundas de teoria estatística, relacionadas ao Teorema do Limite Central, à curva normal e ao processo de amostragem.\n",
    "\n",
    "Aqui estão as fórmulas da variância ($S^2$) e do desvio padrão ($S$): "
   ]
  },
  {
   "cell_type": "markdown",
   "metadata": {},
   "source": [
    "$$\n",
    "S^2 = \\frac{\\displaystyle \\sum_{i=1}^n (x_i - \\bar x)^2}{n-1}\n",
    "$$"
   ]
  },
  {
   "cell_type": "markdown",
   "metadata": {},
   "source": [
    "$$\n",
    "S = \\sqrt \\frac{\\displaystyle \\sum_{i=1}^n (x_i - \\bar x)^2}{n-1}\n",
    "$$"
   ]
  },
  {
   "cell_type": "markdown",
   "metadata": {},
   "source": [
    "<br>\n",
    "<br>\n",
    "\n",
    "### Exercício avançado (opcional)\n",
    "\n",
    "Calcule a variância e o desvio padrão dos salário manualmente (isto é, usando apenas as funções básicas do python: multiplicação, divisão, raiz quadrada etc.), como fizemos acima com a média e o MAD.\n",
    "\n",
    "<br>"
   ]
  },
  {
   "cell_type": "code",
   "execution_count": 67,
   "metadata": {},
   "outputs": [
    {
     "data": {
      "text/plain": [
       "147000.0"
      ]
     },
     "execution_count": 67,
     "metadata": {},
     "output_type": "execute_result"
    }
   ],
   "source": [
    "# cálculo manual da variância\n",
    "((dados.salario - dados.salario.mean()) ** 2).sum() / (len(dados.salario) - 1)"
   ]
  },
  {
   "cell_type": "code",
   "execution_count": 68,
   "metadata": {},
   "outputs": [
    {
     "data": {
      "text/plain": [
       "383.40579025361626"
      ]
     },
     "execution_count": 68,
     "metadata": {},
     "output_type": "execute_result"
    }
   ],
   "source": [
    "# cálculo manual do desvio padrão\n",
    "v = ((dados.salario - dados.salario.mean()) ** 2).sum() / (len(dados.salario) - 1)\n",
    "v ** 0.5"
   ]
  },
  {
   "cell_type": "markdown",
   "metadata": {
    "collapsed": true
   },
   "source": [
    "## Calculando a correlação\n",
    "\n",
    "A correlação é a principal medida de variação conjunta de duas variáveis.  \n",
    "\n",
    "Basta digitar o seguinte:"
   ]
  },
  {
   "cell_type": "code",
   "execution_count": 69,
   "metadata": {},
   "outputs": [
    {
     "data": {
      "text/plain": [
       "0.903805060585677"
      ]
     },
     "execution_count": 69,
     "metadata": {},
     "output_type": "execute_result"
    }
   ],
   "source": [
    "dados.estudo.corr(dados.salario)"
   ]
  },
  {
   "cell_type": "markdown",
   "metadata": {},
   "source": [
    "Para calcular a correlação entre todas as variáveis de um dataframe:"
   ]
  },
  {
   "cell_type": "code",
   "execution_count": 70,
   "metadata": {},
   "outputs": [
    {
     "data": {
      "text/html": [
       "<div>\n",
       "<style>\n",
       "    .dataframe thead tr:only-child th {\n",
       "        text-align: right;\n",
       "    }\n",
       "\n",
       "    .dataframe thead th {\n",
       "        text-align: left;\n",
       "    }\n",
       "\n",
       "    .dataframe tbody tr th {\n",
       "        vertical-align: top;\n",
       "    }\n",
       "</style>\n",
       "<table border=\"1\" class=\"dataframe\">\n",
       "  <thead>\n",
       "    <tr style=\"text-align: right;\">\n",
       "      <th></th>\n",
       "      <th>estudo</th>\n",
       "      <th>salario</th>\n",
       "    </tr>\n",
       "  </thead>\n",
       "  <tbody>\n",
       "    <tr>\n",
       "      <th>estudo</th>\n",
       "      <td>1.000000</td>\n",
       "      <td>0.903805</td>\n",
       "    </tr>\n",
       "    <tr>\n",
       "      <th>salario</th>\n",
       "      <td>0.903805</td>\n",
       "      <td>1.000000</td>\n",
       "    </tr>\n",
       "  </tbody>\n",
       "</table>\n",
       "</div>"
      ],
      "text/plain": [
       "           estudo   salario\n",
       "estudo   1.000000  0.903805\n",
       "salario  0.903805  1.000000"
      ]
     },
     "execution_count": 70,
     "metadata": {},
     "output_type": "execute_result"
    }
   ],
   "source": [
    "dados.corr()"
   ]
  },
  {
   "cell_type": "markdown",
   "metadata": {},
   "source": [
    "A correlação é a versão normalizada da covariância, usando o desvio padrão de cada uma das variáveis. Ela pode ser calculada assim:"
   ]
  },
  {
   "cell_type": "code",
   "execution_count": null,
   "metadata": {
    "collapsed": true
   },
   "outputs": [],
   "source": [
    "dados.estudo.cov(dados.salario)"
   ]
  },
  {
   "cell_type": "markdown",
   "metadata": {},
   "source": [
    "Aqui estão as fórmulas da covariância, $cov()$, e da correlação, $r$:"
   ]
  },
  {
   "cell_type": "markdown",
   "metadata": {},
   "source": [
    "$$\n",
    "cov(x, y) = \\frac{\\displaystyle \\sum_{i=1}^n (x_i - \\bar x) (y_i - \\bar y)}{n - 1}\n",
    "$$\n",
    "\n",
    "<br>\n",
    "<br>\n",
    "\n",
    "$$\n",
    "r = \\frac{cov(x, y)}{S_x S_y}\n",
    "$$"
   ]
  },
  {
   "cell_type": "markdown",
   "metadata": {},
   "source": [
    "Desdobrando os termos em seus significados, a fórmula da correlação é:"
   ]
  },
  {
   "cell_type": "markdown",
   "metadata": {},
   "source": [
    "$$\n",
    "r = \\frac{\\displaystyle \\sum_{i=1}^n (x_i - \\bar x) (y_i - \\bar y)}{\\sqrt{\\displaystyle \\sum_{i=1}^n (x_i - \\bar x)^2} \\sqrt{\\displaystyle \\sum_{i=1}^n (y_i - \\bar y)^2}}\n",
    "$$"
   ]
  },
  {
   "cell_type": "markdown",
   "metadata": {},
   "source": [
    "**Observação profunda**: durante o cálculo da correlação o desvio em relação à média é calculado quatro vezes (duas no numerador e duas no denominador). "
   ]
  },
  {
   "cell_type": "markdown",
   "metadata": {
    "collapsed": true
   },
   "source": [
    "<br>\n",
    "<br>\n",
    "\n",
    "### Exercício avançado (opcional)\n",
    "\n",
    "Calcule a correlação manualmente.\n",
    "\n",
    "<br>\n",
    "<br>\n",
    "<br>\n",
    "<br>\n"
   ]
  }
 ],
 "metadata": {
  "kernelspec": {
   "display_name": "Python 3",
   "language": "python",
   "name": "python3"
  },
  "language_info": {
   "codemirror_mode": {
    "name": "ipython",
    "version": 3
   },
   "file_extension": ".py",
   "mimetype": "text/x-python",
   "name": "python",
   "nbconvert_exporter": "python",
   "pygments_lexer": "ipython3",
   "version": "3.6.2"
  }
 },
 "nbformat": 4,
 "nbformat_minor": 2
}
