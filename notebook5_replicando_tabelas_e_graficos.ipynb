{
 "cells": [
  {
   "cell_type": "markdown",
   "metadata": {},
   "source": [
    "### Criando tabelas e gráficos manualmente\n",
    "\n",
    "\n",
    "Nem sempre temos acesso ao conjunto de dados que gerou determinada tabeça ou gráfico de um texto que estamos lendo.  \n",
    "Nesses casos é preciso inserir os dados um a um.  \n",
    "\n",
    "Aqui vamos reconstruir alguns gráficos e tabelas da [Síntese de Indicadores Sociais, 2016, do IBGE](https://biblioteca.ibge.gov.br/visualizacao/livros/liv98965.pdf).\n",
    "\n"
   ]
  },
  {
   "cell_type": "code",
   "execution_count": 16,
   "metadata": {
    "collapsed": true
   },
   "outputs": [],
   "source": [
    "%matplotlib inline\n",
    "import pandas as pd\n",
    "import numpy as np\n",
    "import matplotlib.pyplot as plt\n",
    "import seaborn as sns\n",
    "sns.set(style='whitegrid', palette='Accent')"
   ]
  },
  {
   "cell_type": "markdown",
   "metadata": {},
   "source": [
    "### Tabela 2 (p. 19) - Natureza da união conjugal, segundo o sexo"
   ]
  },
  {
   "cell_type": "code",
   "execution_count": 2,
   "metadata": {
    "collapsed": true
   },
   "outputs": [],
   "source": [
    "dados = {\n",
    "    'sexo': ['total', 'homens', 'mulheres'],\n",
    "    'viviam_total': [56.3, 58.8, 54.1],\n",
    "    'viviam_casamento': [36.5, 38.1, 35.1],\n",
    "    'viviam_uniao': [19.8, 20.7, 19],\n",
    "    'nao_viviam_ja': [18.3, 12.1, 23.9],\n",
    "    'não_viviam_nunca': [25.4, 29.1, 22]\n",
    "}"
   ]
  },
  {
   "cell_type": "code",
   "execution_count": 6,
   "metadata": {
    "collapsed": true
   },
   "outputs": [],
   "source": [
    "df = pd.DataFrame(dados)"
   ]
  },
  {
   "cell_type": "code",
   "execution_count": 7,
   "metadata": {},
   "outputs": [
    {
     "data": {
      "text/plain": [
       "Index(['nao_viviam_ja', 'não_viviam_nunca', 'sexo', 'viviam_casamento',\n",
       "       'viviam_total', 'viviam_uniao'],\n",
       "      dtype='object')"
      ]
     },
     "execution_count": 7,
     "metadata": {},
     "output_type": "execute_result"
    }
   ],
   "source": [
    "df.columns"
   ]
  },
  {
   "cell_type": "code",
   "execution_count": 9,
   "metadata": {
    "collapsed": true
   },
   "outputs": [],
   "source": [
    "df = df.loc[:, ['sexo', 'viviam_total', 'viviam_casamento', 'viviam_uniao', 'nao_viviam_ja', 'não_viviam_nunca']]"
   ]
  },
  {
   "cell_type": "code",
   "execution_count": 10,
   "metadata": {},
   "outputs": [
    {
     "data": {
      "text/html": [
       "<div>\n",
       "<style>\n",
       "    .dataframe thead tr:only-child th {\n",
       "        text-align: right;\n",
       "    }\n",
       "\n",
       "    .dataframe thead th {\n",
       "        text-align: left;\n",
       "    }\n",
       "\n",
       "    .dataframe tbody tr th {\n",
       "        vertical-align: top;\n",
       "    }\n",
       "</style>\n",
       "<table border=\"1\" class=\"dataframe\">\n",
       "  <thead>\n",
       "    <tr style=\"text-align: right;\">\n",
       "      <th></th>\n",
       "      <th>sexo</th>\n",
       "      <th>viviam_total</th>\n",
       "      <th>viviam_casamento</th>\n",
       "      <th>viviam_uniao</th>\n",
       "      <th>nao_viviam_ja</th>\n",
       "      <th>não_viviam_nunca</th>\n",
       "    </tr>\n",
       "  </thead>\n",
       "  <tbody>\n",
       "    <tr>\n",
       "      <th>0</th>\n",
       "      <td>total</td>\n",
       "      <td>56.3</td>\n",
       "      <td>36.5</td>\n",
       "      <td>19.8</td>\n",
       "      <td>18.3</td>\n",
       "      <td>25.4</td>\n",
       "    </tr>\n",
       "    <tr>\n",
       "      <th>1</th>\n",
       "      <td>homens</td>\n",
       "      <td>58.8</td>\n",
       "      <td>38.1</td>\n",
       "      <td>20.7</td>\n",
       "      <td>12.1</td>\n",
       "      <td>29.1</td>\n",
       "    </tr>\n",
       "    <tr>\n",
       "      <th>2</th>\n",
       "      <td>mulheres</td>\n",
       "      <td>54.1</td>\n",
       "      <td>35.1</td>\n",
       "      <td>19.0</td>\n",
       "      <td>23.9</td>\n",
       "      <td>22.0</td>\n",
       "    </tr>\n",
       "  </tbody>\n",
       "</table>\n",
       "</div>"
      ],
      "text/plain": [
       "       sexo  viviam_total  viviam_casamento  viviam_uniao  nao_viviam_ja  \\\n",
       "0     total          56.3              36.5          19.8           18.3   \n",
       "1    homens          58.8              38.1          20.7           12.1   \n",
       "2  mulheres          54.1              35.1          19.0           23.9   \n",
       "\n",
       "   não_viviam_nunca  \n",
       "0              25.4  \n",
       "1              29.1  \n",
       "2              22.0  "
      ]
     },
     "execution_count": 10,
     "metadata": {},
     "output_type": "execute_result"
    }
   ],
   "source": [
    "df"
   ]
  },
  {
   "cell_type": "code",
   "execution_count": 19,
   "metadata": {},
   "outputs": [
    {
     "data": {
      "image/png": "[encoded data removed]",
      "text/plain": [
       "<matplotlib.figure.Figure at 0x7f6eb6cfa0b8>"
      ]
     },
     "metadata": {},
     "output_type": "display_data"
    }
   ],
   "source": [
    "df.plot.barh('sexo', width=.7)\n",
    "plt.legend(bbox_to_anchor=(1,1));"
   ]
  },
  {
   "cell_type": "markdown",
   "metadata": {},
   "source": [
    "### Gráfico 4.7 (p.62). Taxa de frequência líquida ao ensino superior."
   ]
  },
  {
   "cell_type": "code",
   "execution_count": 59,
   "metadata": {},
   "outputs": [
    {
     "data": {
      "image/png": "[encoded data removed]",
      "text/plain": [
       "<matplotlib.figure.Figure at 0x7f6eb6c5d160>"
      ]
     },
     "metadata": {},
     "output_type": "display_data"
    }
   ],
   "source": [
    "dados = {\n",
    "    'categoria':['total', 'homem', 'mulher', 'branca', 'preta_ou_parda'],\n",
    "    '2005':[11.4, 9.8, 13, 17.8, 5.5],\n",
    "    '2015':[18.4, 15.4, 21.7, 26.5, 12.8]\n",
    "}\n",
    "\n",
    "df = pd.DataFrame(dados)\n",
    "\n",
    "df = df.loc[:, ['categoria', '2005', '2015']]\n",
    "\n",
    "ax = df.plot.bar('categoria', width=.7)\n",
    "plt.xticks(rotation='0')\n",
    "plt.xlabel('')\n",
    "plt.ylim(0, 35)\n",
    "\n",
    "for p in ax.patches:\n",
    "    ax.annotate(str(p.get_height()), xy=(p.get_x(), p.get_height() + .5 ), size=10)\n",
    "\n",
    "# versão rigorosa    \n",
    "#     ax.annotate(\"%.1f\" % p.get_height(), (p.get_x() + p.get_width() / 2., p.get_height()), \n",
    "#                 ha='center', va='center', xytext=(0, 10), textcoords='offset points', size=8);"
   ]
  },
  {
   "cell_type": "code",
   "execution_count": null,
   "metadata": {
    "collapsed": true
   },
   "outputs": [],
   "source": []
  }
 ],
 "metadata": {
  "kernelspec": {
   "display_name": "Python 3",
   "language": "python",
   "name": "python3"
  },
  "language_info": {
   "codemirror_mode": {
    "name": "ipython",
    "version": 3
   },
   "file_extension": ".py",
   "mimetype": "text/x-python",
   "name": "python",
   "nbconvert_exporter": "python",
   "pygments_lexer": "ipython3",
   "version": "3.6.2"
  }
 },
 "nbformat": 4,
 "nbformat_minor": 2
}
